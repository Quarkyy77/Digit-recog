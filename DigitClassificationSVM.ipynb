{
 "cells": [
  {
   "cell_type": "code",
   "execution_count": null,
   "id": "ad185d42",
   "metadata": {},
   "outputs": [],
   "source": [
    "import numpy as np\n",
    "import pandas as pd\n",
    "import matplotlib.pyplot as plt\n",
    "from sklearn.svm import SVC\n",
    "from sklearn.metrics import confusion_matrix, accuracy_score\n",
    "from sklearn.metrics import classification_report\n",
    "import pickle \n",
    "import gzip\n",
    "import random\n",
    "from keras.datasets import mnist"
   ]
  },
  {
   "cell_type": "code",
   "execution_count": null,
   "id": "7006df75",
   "metadata": {},
   "outputs": [],
   "source": [
    "(x_train, y_train), (x_test, y_test) = mnist.load_data()"
   ]
  },
  {
   "cell_type": "code",
   "execution_count": null,
   "id": "5212aeb9",
   "metadata": {},
   "outputs": [],
   "source": [
    "\n",
    "x_train.resize(60000,784)"
   ]
  },
  {
   "cell_type": "code",
   "execution_count": null,
   "id": "1157d20e",
   "metadata": {},
   "outputs": [],
   "source": [
    "y_train=y_train.reshape(60000,)"
   ]
  },
  {
   "cell_type": "code",
   "execution_count": null,
   "id": "2e5b3323",
   "metadata": {},
   "outputs": [],
   "source": [
    "y_train.shape"
   ]
  },
  {
   "cell_type": "code",
   "execution_count": null,
   "id": "d9497962",
   "metadata": {},
   "outputs": [],
   "source": [
    "x_train.shape"
   ]
  },
  {
   "cell_type": "code",
   "execution_count": null,
   "id": "3a7b1cbd",
   "metadata": {},
   "outputs": [],
   "source": [
    "x_test=x_test.reshape(10000,784)"
   ]
  },
  {
   "cell_type": "code",
   "execution_count": null,
   "id": "7d61daf8",
   "metadata": {},
   "outputs": [],
   "source": []
  },
  {
   "cell_type": "code",
   "execution_count": null,
   "id": "f0015359",
   "metadata": {},
   "outputs": [],
   "source": [
    "classifier = SVC()\n"
   ]
  },
  {
   "cell_type": "code",
   "execution_count": null,
   "id": "4f2beacd",
   "metadata": {},
   "outputs": [],
   "source": [
    "\n",
    "classifier.fit(x_train, y_train)\n",
    "# classifier.fit(X.reshape(X.shape[0], 28*28), y)"
   ]
  },
  {
   "cell_type": "code",
   "execution_count": null,
   "id": "d6c6bf23",
   "metadata": {},
   "outputs": [],
   "source": [
    "classifier.score(x_test, y_test)\n"
   ]
  },
  {
   "cell_type": "code",
   "execution_count": null,
   "id": "41911e01",
   "metadata": {},
   "outputs": [],
   "source": [
    "predicted = classifier.predict(x_test)"
   ]
  },
  {
   "cell_type": "code",
   "execution_count": null,
   "id": "18942188",
   "metadata": {},
   "outputs": [],
   "source": [
    "predicted"
   ]
  },
  {
   "cell_type": "code",
   "execution_count": null,
   "id": "fe1ffa11",
   "metadata": {},
   "outputs": [],
   "source": [
    "from sklearn.metrics import classification_report\n",
    "from sklearn.metrics import f1_score\n",
    "from sklearn.metrics import confusion_matrix\n",
    "import seaborn as sns\n",
    "target_names = ['class 0', 'class 1', 'class 2', 'class 3', 'class 4', 'class 5', 'class 6', 'class 7', 'class 8', 'class 9']"
   ]
  },
  {
   "cell_type": "code",
   "execution_count": null,
   "id": "94fc22dc",
   "metadata": {},
   "outputs": [],
   "source": [
    "classification_report(y_test,predicted,target_names=target_names)"
   ]
  },
  {
   "cell_type": "code",
   "execution_count": null,
   "id": "e5203ebf",
   "metadata": {},
   "outputs": [],
   "source": [
    "dat=pd.DataFrame(confusion_matrix(y_test, predicted))"
   ]
  },
  {
   "cell_type": "code",
   "execution_count": null,
   "id": "8c2b1f44",
   "metadata": {},
   "outputs": [],
   "source": [
    "sns.heatmap(dat)"
   ]
  },
  {
   "cell_type": "code",
   "execution_count": null,
   "id": "410b6d05",
   "metadata": {},
   "outputs": [],
   "source": [
    "dat"
   ]
  },
  {
   "cell_type": "code",
   "execution_count": null,
   "id": "220eec93",
   "metadata": {},
   "outputs": [],
   "source": [
    "f1_score(y_test,predicted,labels=target_names, average=None)"
   ]
  },
  {
   "cell_type": "code",
   "execution_count": null,
   "id": "827f4df0",
   "metadata": {},
   "outputs": [],
   "source": []
  }
 ],
 "metadata": {
  "kernelspec": {
   "display_name": "Python 3",
   "language": "python",
   "name": "python3"
  },
  "language_info": {
   "codemirror_mode": {
    "name": "ipython",
    "version": 3
   },
   "file_extension": ".py",
   "mimetype": "text/x-python",
   "name": "python",
   "nbconvert_exporter": "python",
   "pygments_lexer": "ipython3",
   "version": "3.8.8"
  }
 },
 "nbformat": 4,
 "nbformat_minor": 5
}
