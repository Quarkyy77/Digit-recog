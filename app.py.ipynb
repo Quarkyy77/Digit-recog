{
 "cells": [
  {
   "cell_type": "code",
   "execution_count": 1,
   "id": "881b5958",
   "metadata": {},
   "outputs": [
    {
     "name": "stdout",
     "output_type": "stream",
     "text": [
      "Requirement already satisfied: pygame in c:\\users\\lenovo\\anaconda3\\lib\\site-packages (2.1.2)Note: you may need to restart the kernel to use updated packages.\n",
      "\n"
     ]
    }
   ],
   "source": [
    "pip install pygame\n"
   ]
  },
  {
   "cell_type": "code",
   "execution_count": 4,
   "id": "425e54fa",
   "metadata": {},
   "outputs": [
    {
     "name": "stdout",
     "output_type": "stream",
     "text": [
      "1/1 [==============================] - 0s 60ms/step\n"
     ]
    },
    {
     "ename": "SystemExit",
     "evalue": "",
     "output_type": "error",
     "traceback": [
      "An exception has occurred, use %tb to see the full traceback.\n",
      "\u001b[1;31mSystemExit\u001b[0m\n"
     ]
    }
   ],
   "source": [
    "import pygame, sys\n",
    "from pygame.locals import *\n",
    "import numpy as np\n",
    "from keras.models import load_model\n",
    "import cv2\n",
    "\n",
    "WINDOWSIZEX=640\n",
    "WINDOWSIZEY=480\n",
    "\n",
    "BOUNDARYINC=5\n",
    "WHITE=(255,255,255)\n",
    "BLACK=(0,0,0)\n",
    "RED= (255,0,0)\n",
    "\n",
    "IMAGESAVE= False\n",
    "\n",
    "MODEL=load_model(\"modelFinal.h5\")\n",
    "\n",
    "LABELS={0:\"Zero\",1:\"One\",\n",
    "        2:\"Two\",3:\"Three\",\n",
    "        4:\"Four\", 5:\"Five\",\n",
    "        6:\"Six\", 7:\"Seven\",\n",
    "        8:\"Eight\",9:\"Nine\"}\n",
    "\n",
    "\n",
    "#INITIALIZE GAME\n",
    "pygame.init()\n",
    "\n",
    "#FONT= pygame.font.font(\"freesansbold.tff\", 18)\n",
    "DISPLAYSURF=pygame.display.set_mode((WINDOWSIZEX, WINDOWSIZEY))\n",
    "\n",
    "iswriting=False\n",
    "\n",
    "number_xcord=[]\n",
    "number_ycord=[]\n",
    "\n",
    "image_cnt=1\n",
    "PREDICT=True\n",
    "\n",
    "pygame.display.set_caption(\"Digit Board\")\n",
    "while True:\n",
    "    \n",
    "    for event in pygame.event.get():\n",
    "        if event.type ==QUIT:\n",
    "            pygame.quit()\n",
    "            sys.exit()\n",
    "            \n",
    "        if event.type == MOUSEMOTION and iswriting:\n",
    "            xcord, ycord=event.pos\n",
    "            pygame.draw.circle(DISPLAYSURF, WHITE,(xcord,ycord),4,0)\n",
    "            \n",
    "            number_xcord.append(xcord)\n",
    "            number_ycord.append(ycord)\n",
    "            \n",
    "        if event.type== MOUSEBUTTONDOWN:\n",
    "            iswriting=True\n",
    "            \n",
    "        if event.type==MOUSEBUTTONUP:\n",
    "            iswriting=False\n",
    "            number_xcord=sorted(number_xcord)\n",
    "            number_ycord=sorted(number_ycord)\n",
    "            \n",
    "            rect_min_x, rect_max_x= max(number_xcord[0]-BOUNDARYINC,0), min(WINDOWSIZEX, number_xcord[-1]+BOUNDARYINC)\n",
    "            rect_min_Y, rect_max_Y=max(number_ycord[0]-BOUNDARYINC,0),min(number_ycord[-1]+BOUNDARYINC,WINDOWSIZEX)\n",
    "            \n",
    "            number_xcord=[]\n",
    "            number_ycord=[]\n",
    "            \n",
    "            img_arr=np.array(pygame.PixelArray(DISPLAYSURF))[rect_min_x:rect_max_x,rect_min_Y:rect_max_Y].T.astype(np.float32)\n",
    "            \n",
    "            \n",
    "            if IMAGESAVE:\n",
    "                cv2.imwrite(\"image.png\")\n",
    "                image_cnt+=1\n",
    "                \n",
    "            if PREDICT:\n",
    "                image=cv2.resize(img_arr,(28,28))\n",
    "                image=np.pad(image, (10,10), 'constant', constant_values=0)\n",
    "                image=cv2.resize(image, (28,28))/255\n",
    "                \n",
    "                label=str(LABELS[np.argmax(MODEL.predict(image.reshape(1,784)))])\n",
    "                FONT=pygame.font.SysFont(None,24)\n",
    "                \n",
    "                textSurface=FONT.render(label,True,RED,WHITE)\n",
    "                textRecObj=textSurface.get_rect()\n",
    "                textRecObj.left, textRecObj.bottom=rect_min_x,rect_max_Y\n",
    "                \n",
    "                DISPLAYSURF.blit(textSurface,textRecObj)\n",
    "                \n",
    "            if event.type==KEYDOWN:\n",
    "                if event.unicode ==\"n\":\n",
    "                    DISPLAYSURF.fill(BLACK)\n",
    "        \n",
    "    pygame.display.update()"
   ]
  },
  {
   "cell_type": "code",
   "execution_count": null,
   "id": "04a246cf",
   "metadata": {},
   "outputs": [],
   "source": []
  }
 ],
 "metadata": {
  "kernelspec": {
   "display_name": "Python 3",
   "language": "python",
   "name": "python3"
  },
  "language_info": {
   "codemirror_mode": {
    "name": "ipython",
    "version": 3
   },
   "file_extension": ".py",
   "mimetype": "text/x-python",
   "name": "python",
   "nbconvert_exporter": "python",
   "pygments_lexer": "ipython3",
   "version": "3.8.8"
  }
 },
 "nbformat": 4,
 "nbformat_minor": 5
}
